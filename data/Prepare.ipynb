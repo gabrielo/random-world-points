{
 "cells": [
  {
   "cell_type": "code",
   "execution_count": 2,
   "metadata": {},
   "outputs": [],
   "source": [
    "#Convert shapefiles into GeoJSON\n",
    "for i in range(0,6):\n",
    "    shpFilename = \"gadm28_levels/gadm28_adm%s.shp\" % i\n",
    "    geojsonFilename = \"gadm28_levels/gadm28_adm%s.geojson\" % i\n",
    "    cmd = \" ogr2ogr -f GeoJSON %s %s\" % (geojsonFilename, shpFilename)\n",
    "    !$cmd"
   ]
  },
  {
   "cell_type": "code",
   "execution_count": null,
   "metadata": {
    "collapsed": true
   },
   "outputs": [],
   "source": []
  }
 ],
 "metadata": {
  "kernelspec": {
   "display_name": "Python 2",
   "language": "python",
   "name": "python2"
  },
  "language_info": {
   "codemirror_mode": {
    "name": "ipython",
    "version": 2
   },
   "file_extension": ".py",
   "mimetype": "text/x-python",
   "name": "python",
   "nbconvert_exporter": "python",
   "pygments_lexer": "ipython2",
   "version": "2.7.13"
  }
 },
 "nbformat": 4,
 "nbformat_minor": 2
}
